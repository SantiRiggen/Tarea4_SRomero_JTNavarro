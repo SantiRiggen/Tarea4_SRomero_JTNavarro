{
 "cells": [
  {
   "cell_type": "markdown",
   "metadata": {},
   "source": [
    "<img style=\"float: left; margin: 30px 15px 15px 15px;\" src=\"https://pngimage.net/wp-content/uploads/2018/06/logo-iteso-png-5.png\" width=\"300\" height=\"500\" /> \n",
    "    \n",
    "    \n",
    "### <font color='navy'> Simulación de procesos financieros. \n",
    "\n",
    "**Nombres:** Santiago Romero Riggen y José Navarro Silva.\n",
    "\n",
    "**Fecha:** 10 de Junio del 2021.\n",
    "\n",
    "**Expediente** : if715099 y 722399.\n",
    "**Profesor:** Oscar David Jaramillo Zuluaga.\n",
    "    \n",
    "**Link Github**: \n",
    "\n",
    "# Tarea 4: Clase 7"
   ]
  },
  {
   "cell_type": "markdown",
   "metadata": {},
   "source": [
    "### Ejercicio 1: \n",
    "\n",
    "Como ejemplo simple de una simulación de Monte Carlo, considere calcular la probabilidad de una suma particular del lanzamiento de tres dados (cada dado tiene valores del uno al seis). Además cada dado tiene las siguientes carácterísticas: el primer dado no está cargado (distribución uniforme todos son equiprobables); el segundo y tercer dado están cargados basados en una distribución binomial con parámetros (`n=5, p=0.5` y `n=5, p=0.2`). Calcule la probabilidad de que la suma resultante sea 7, 14 o 18. "
   ]
  },
  {
   "cell_type": "markdown",
   "metadata": {},
   "source": [
    "Código de solución estudiante 1"
   ]
  },
  {
   "cell_type": "code",
   "execution_count": 5,
   "metadata": {},
   "outputs": [
    {
     "data": {
      "text/plain": [
       "(0.1598, 0.0006, 0.0)"
      ]
     },
     "execution_count": 5,
     "metadata": {},
     "output_type": "execute_result"
    }
   ],
   "source": [
    "# Código de solución Santiago Romero\n",
    "import numpy as np\n",
    "import matplotlib.pyplot as plt\n",
    "import scipy.stats as st\n",
    "import pandas as pd\n",
    "N=10000\n",
    "d_no_cargado = np.random.randint(1,7,N)\n",
    "d_cargado1 = st.binom(n=5, p=.5).rvs(size = N)\n",
    "d_cargado2 = st.binom(n=5, p=.2).rvs(size = N)\n",
    "\n",
    "suma =  d_no_cargado + d_cargado1 + d_cargado2\n",
    "y, x = np.histogram(suma, bins=18, density=True)\n",
    "\n",
    "prob7 = len(suma[suma==7]) / len(suma)\n",
    "prob14 = len(suma[suma==14]) / len(suma)\n",
    "prob18 = len(suma[suma==18]) / len(suma)\n",
    "\n",
    "round(prob7,4), round(prob14,4), round(prob18,4)"
   ]
  },
  {
   "cell_type": "markdown",
   "metadata": {},
   "source": [
    "Código de solución estudiante 2"
   ]
  },
  {
   "cell_type": "code",
   "execution_count": null,
   "metadata": {},
   "outputs": [],
   "source": [
    "# Código de solución estudiante 2\n",
    ".\n",
    ".\n",
    ".\n",
    ".\n"
   ]
  },
  {
   "cell_type": "markdown",
   "metadata": {},
   "source": [
    "# 2 Ejercicio de aplicación- Cafetería Central\n",
    "\n",
    "Premisas para la simulación:\n",
    "- Negocio de alimentos que vende bebidas y alimentos.\n",
    "- Negocio dentro del ITESO.\n",
    "- Negocio en cafetería central.\n",
    "- Tipo de clientes (hombres y mujeres).\n",
    "- Rentabilidad del 60%.\n",
    "\n",
    "## Objetivo\n",
    "Realizar una simulación estimado el tiempo medio que se tardaran los clientes en ser atendidos entre el horario de 6:30 a 1 pm. Además saber el consumo. \n",
    "**Analizar supuestos y limitantes**"
   ]
  },
  {
   "cell_type": "markdown",
   "metadata": {},
   "source": [
    "## Supuestos en simulación\n",
    "Clasificación de clientes: \n",
    "- Mujer  = 1 $\\longrightarrow$ aleatorio < 0.5\n",
    "- Hombre = 0 $\\longrightarrow$ aleatorio $\\geq$ 0.5.\n",
    "\n",
    "Condiciones iniciales:\n",
    "- Todas las distrubuciones de probabilidad se supondrán uniformes.\n",
    "- Tiempo de simulación: 6:30 am - 1:30pm $\\longrightarrow$ T = 7 horas = 25200 seg.\n",
    "- Tiempo de llegada hasta ser atendido: Min=5seg, Max=30seg.\n",
    "- Tiempo que tardan los clientes en ser atendidos:\n",
    "    - Mujer: Min = 1 min= 60seg, Max = 5 min = 300 seg\n",
    "    - Hombre: Min = 40 seg, Max = 2 min= 120 seg\n",
    "- Consumo según el tipo de cliente:\n",
    "    - Mujer: Min = 30 pesos, Max = 100 pesos\n",
    "    - Hombre: Min = 20 pesos, Max = 80 pesos\n",
    "\n",
    "Responder las siguientes preguntas basados en los datos del problema:\n",
    "1. ¿Cuáles fueron los gastos de los hombres y las mujeres en 5 días de trabajo?.\n",
    "2. ¿Cuál fue el consumo promedio de los hombres y mujeres?\n",
    "3. ¿Cuál fue el número de personas atendidas por día?\n",
    "4. ¿Cuál fue el tiempo de atención promedio?\n",
    "5. ¿Cuánto fue la ganancia promedio de la cafetería en 5 días de trabajo y su respectiva rentabilidad?"
   ]
  },
  {
   "cell_type": "code",
   "execution_count": 58,
   "metadata": {},
   "outputs": [],
   "source": [
    "# Datos del problema\n",
    "d = 5\n",
    "T =25200\n",
    "T_at_min = 5; T_at_max = 30\n",
    "T_mujer_min =60; T_mujer_max = 300\n",
    "T_hombre_min = 40; T_hombre_max = 120\n",
    "C_mujer_min = 30; C_mujer_max = 100\n",
    "C_hombre_min = 20; C_hombre_max = 80\n",
    "dia = 25200"
   ]
  },
  {
   "cell_type": "code",
   "execution_count": 59,
   "metadata": {},
   "outputs": [],
   "source": [
    "# Código de solución Santiago Romero\n",
    "def lleg_aten():\n",
    "    llegada = np.random.randint(5,31,1)\n",
    "    return llegada\n",
    "\n",
    "# Hombre    \n",
    "def h_atend():\n",
    "    at_h = np.random.randint(40, 121, 1)\n",
    "    return at_h\n",
    "\n",
    "def h_cons():\n",
    "    cons_h = np.random.randint(20, 81, 1)\n",
    "    return cons_h\n",
    "\n",
    "# Mujer\n",
    "def m_atend():\n",
    "    at_m = np.random.randint(60, 301, 1)\n",
    "    return at_m\n",
    "\n",
    "def m_cons():\n",
    "    cons_m = np.random.randint(30, 101, 1)\n",
    "    return cons_m"
   ]
  },
  {
   "cell_type": "code",
   "execution_count": 63,
   "metadata": {},
   "outputs": [],
   "source": [
    "# 1. ¿Cuáles fueron los gastos de los hombres y las mujeres en 5 días de trabajo?.\n",
    "gasto_h = [sum(h_cons()) for i in range (dia) if (dia >= sum(lleg_aten()))]\n",
    "gasto_m = [sum(m_cons()) for i in range (dia) if (dia >= sum(lleg_aten()))]\n",
    "\n",
    "# 2. ¿Cuál fue el consumo promedio de los hombres y mujeres?\n",
    "consumo_h = sum(gasto_h) / dia\n",
    "consumo_m = sum(gasto_m) / dia\n",
    "\n",
    "# 3. ¿Cuál fue el número de personas atendidas por día?\n",
    "p_atend = np.array([sum(lleg_aten()) for i in range(100000) if\n",
    "                       sum(lleg_aten()) <= dia])\n",
    "p_atendidas = sum(p_atend) / dia\n",
    "# 4. ¿Cuál fue el tiempo de atención promedio?\n",
    "t_atencion = p_atend.mean()\n",
    "\n",
    "# 5. ¿Cuánto fue la ganancia promedio de la cafetería en 5 días de trabajo y su respectiva rentabilidad?\n",
    "cons_sum = (sum(gasto_h) + sum(gasto_m)) / 5\n",
    "rentabilidad = cons_sum * 0.6"
   ]
  },
  {
   "cell_type": "code",
   "execution_count": 66,
   "metadata": {},
   "outputs": [
    {
     "name": "stdout",
     "output_type": "stream",
     "text": [
      "1. Gasto en 5 días:\n",
      "$ 1261904 gastan los hombres\n",
      "$ 1639608 gastan las mujeres\n",
      "\n",
      "2. Consumo promedio:\n",
      "$ 50.07555555555555 gastan los hombres en promedio\n",
      "$ 65.06380952380952 gastan las mujeres en promedio\n",
      "\n",
      "3. Personas atendidas en un día:\n",
      "69.481 personas atendidas en un día\n",
      "\n",
      "4. Tiempo de atención promedio:\n",
      "17.50929 fue el tiempo de atención promedio\n",
      "\n",
      "5. Ganancia promedio de la cafetería en 5 días:\n",
      "$ 580302.4 fue la ganancia promedio\n",
      "Con una rentabilidad de $ 348181.44\n"
     ]
    }
   ],
   "source": [
    "# Respuestas\n",
    "print('1. Gasto en 5 días:')\n",
    "print('$', sum(gasto_h), 'gastan los hombres')\n",
    "print('$', sum(gasto_m), 'gastan las mujeres')\n",
    "print(\"\")\n",
    "print('2. Consumo promedio:')\n",
    "print('$', consumo_h, 'gastan los hombres en promedio')\n",
    "print('$', consumo_m, 'gastan las mujeres en promedio')\n",
    "print(\"\")\n",
    "print('3. Personas atendidas en un día:')\n",
    "print(round(p_atendidas, 3), 'personas atendidas en un día')\n",
    "print(\"\")\n",
    "print('4. Tiempo de atención promedio:')\n",
    "print(t_atencion, \"fue el tiempo de atención promedio\")\n",
    "print(\"\")\n",
    "print(\"5. Ganancia promedio de la cafetería en 5 días:\")\n",
    "print('$', cons_sum, 'fue la ganancia promedio')\n",
    "print('Con una rentabilidad de', '$',rentabilidad)"
   ]
  },
  {
   "cell_type": "code",
   "execution_count": null,
   "metadata": {},
   "outputs": [],
   "source": [
    "# Código de solución estudiante 2\n",
    ".\n",
    ".\n",
    ".\n",
    ".\n"
   ]
  }
 ],
 "metadata": {
  "kernelspec": {
   "display_name": "Python 3",
   "language": "python",
   "name": "python3"
  },
  "language_info": {
   "codemirror_mode": {
    "name": "ipython",
    "version": 3
   },
   "file_extension": ".py",
   "mimetype": "text/x-python",
   "name": "python",
   "nbconvert_exporter": "python",
   "pygments_lexer": "ipython3",
   "version": "3.8.8"
  }
 },
 "nbformat": 4,
 "nbformat_minor": 2
}
