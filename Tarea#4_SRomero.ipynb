{
 "cells": [
  {
   "cell_type": "markdown",
   "metadata": {},
   "source": [
    "<img style=\"float: left; margin: 30px 15px 15px 15px;\" src=\"https://pngimage.net/wp-content/uploads/2018/06/logo-iteso-png-5.png\" width=\"300\" height=\"500\" /> \n",
    "    \n",
    "    \n",
    "### <font color='navy'> Simulación de procesos financieros. \n",
    "\n",
    "**Nombres:** Santiago Romero Riggen y José Navarro Silva.\n",
    "\n",
    "**Fecha:** 10 de Junio del 2021.\n",
    "\n",
    "**Expediente** : if715099 y 722399.\n",
    "**Profesor:** Oscar David Jaramillo Zuluaga.\n",
    "    \n",
    "**Link Github**: \n",
    "\n",
    "# Tarea 4: Clase 7"
   ]
  },
  {
   "cell_type": "markdown",
   "metadata": {},
   "source": [
    "### Ejercicio 1: \n",
    "\n",
    "Como ejemplo simple de una simulación de Monte Carlo, considere calcular la probabilidad de una suma particular del lanzamiento de tres dados (cada dado tiene valores del uno al seis). Además cada dado tiene las siguientes carácterísticas: el primer dado no está cargado (distribución uniforme todos son equiprobables); el segundo y tercer dado están cargados basados en una distribución binomial con parámetros (`n=5, p=0.5` y `n=5, p=0.2`). Calcule la probabilidad de que la suma resultante sea 7, 14 o 18. "
   ]
  },
  {
   "cell_type": "markdown",
   "metadata": {},
   "source": [
    "Código de solución estudiante 1"
   ]
  },
  {
   "cell_type": "code",
   "execution_count": 11,
   "metadata": {},
   "outputs": [
    {
     "data": {
      "text/plain": [
       "(0.1642, 0.0006, 0.0)"
      ]
     },
     "execution_count": 11,
     "metadata": {},
     "output_type": "execute_result"
    }
   ],
   "source": [
    "# Código de solución Santiago Romero\n",
    "import numpy as np\n",
    "import matplotlib.pyplot as plt\n",
    "import scipy.stats as st\n",
    "import pandas as pd\n",
    "N=10000\n",
    "d_no_cargado = np.random.randint(1,7,N)\n",
    "d_cargado1 = st.binom(n=5, p=.5).rvs(size = N)\n",
    "d_cargado2 = st.binom(n=5, p=.2).rvs(size = N)\n",
    "\n",
    "suma =  d_no_cargado + d_cargado1 + d_cargado2\n",
    "y, x = np.histogram(suma, bins=18, density=True)\n",
    "\n",
    "prob7 = len(suma[suma==7]) / len(suma)\n",
    "prob14 = len(suma[suma==14]) / len(suma)\n",
    "prob18 = len(suma[suma==18]) / len(suma)\n",
    "\n",
    "round(prob7,4), round(prob14,4), round(prob18,4)"
   ]
  },
  {
   "cell_type": "markdown",
   "metadata": {},
   "source": [
    "Código de solución estudiante 2 - Tonatiuh Navarro"
   ]
  },
  {
   "cell_type": "code",
   "execution_count": 3,
   "metadata": {},
   "outputs": [
    {
     "data": {
      "text/plain": [
       "<BarContainer object of 6 artists>"
      ]
     },
     "execution_count": 3,
     "metadata": {},
     "output_type": "execute_result"
    },
    {
     "data": {
      "image/png": "[encoded data removed]",
      "text/plain": [
       "<Figure size 432x288 with 1 Axes>"
      ]
     },
     "metadata": {
      "needs_background": "light"
     },
     "output_type": "display_data"
    }
   ],
   "source": [
    "# Código de solución estudiante 2\n",
    "# DADO NO CARGADO\n",
    "\n",
    " \n",
    "N = 10**4\n",
    "d_no_cargado = np.random.randint(1,7,N)\n",
    "x,y = np.histogram(d_no_cargado, bins=6)\n",
    "\n",
    "#plt.hist(d_no_cargado, bins=40, density = True);\n",
    "plt.bar(range(1,7),x)"
   ]
  },
  {
   "cell_type": "code",
   "execution_count": 4,
   "metadata": {},
   "outputs": [
    {
     "data": {
      "text/plain": [
       "<BarContainer object of 6 artists>"
      ]
     },
     "execution_count": 4,
     "metadata": {},
     "output_type": "execute_result"
    },
    {
     "data": {
      "image/png": "[encoded data removed]",
      "text/plain": [
       "<Figure size 432x288 with 1 Axes>"
      ]
     },
     "metadata": {
      "needs_background": "light"
     },
     "output_type": "display_data"
    }
   ],
   "source": [
    "# DADO CARGADO1\n",
    "\n",
    " \n",
    "d_cargado = st.binom(n=5, p=0.5).rvs(size=N)\n",
    "x,y = np.histogram(d_cargado, bins=6, density=True)\n",
    "\n",
    "plt.bar(range(1, 7), x)"
   ]
  },
  {
   "cell_type": "code",
   "execution_count": 5,
   "metadata": {},
   "outputs": [
    {
     "data": {
      "text/plain": [
       "<BarContainer object of 6 artists>"
      ]
     },
     "execution_count": 5,
     "metadata": {},
     "output_type": "execute_result"
    },
    {
     "data": {
      "image/png": "[encoded data removed]",
      "text/plain": [
       "<Figure size 432x288 with 1 Axes>"
      ]
     },
     "metadata": {
      "needs_background": "light"
     },
     "output_type": "display_data"
    }
   ],
   "source": [
    "# DADO CARGADO 2\n",
    "\n",
    "d_cargado2 = st.binom(n=5,p=0.2).rvs(size=N)\n",
    "x,y = np.histogram(d_cargado2, bins=6, density=True)\n",
    "\n",
    "plt.bar(range(1,7),x)"
   ]
  },
  {
   "cell_type": "code",
   "execution_count": 6,
   "metadata": {},
   "outputs": [
    {
     "name": "stdout",
     "output_type": "stream",
     "text": [
      "La probabilidad de que la suma de los 3 dados sea 7 es de: 0.1565 , que sea 14 es de: 0.0006 y de que sea 18 es de: 0.0\n"
     ]
    }
   ],
   "source": [
    "tres_dados = d_cargado+d_cargado2+d_no_cargado\n",
    "\n",
    "\n",
    "prob7 = list(tres_dados).count(7)/len(tres_dados)\n",
    "prob14 = list(tres_dados).count(14)/len(tres_dados)\n",
    "prob18 = list(tres_dados).count(18)/len(tres_dados)\n",
    "\n",
    "print('La probabilidad de que la suma de los 3 dados sea 7 es de:',prob7, \n",
    "    ', que sea 14 es de:',prob14,\n",
    "    'y de que sea 18 es de:',prob18)"
   ]
  },
  {
   "cell_type": "markdown",
   "metadata": {},
   "source": [
    "# 2 Ejercicio de aplicación- Cafetería Central\n",
    "\n",
    "Premisas para la simulación:\n",
    "- Negocio de alimentos que vende bebidas y alimentos.\n",
    "- Negocio dentro del ITESO.\n",
    "- Negocio en cafetería central.\n",
    "- Tipo de clientes (hombres y mujeres).\n",
    "- Rentabilidad del 60%.\n",
    "\n",
    "## Objetivo\n",
    "Realizar una simulación estimado el tiempo medio que se tardaran los clientes en ser atendidos entre el horario de 6:30 a 1 pm. Además saber el consumo. \n",
    "**Analizar supuestos y limitantes**"
   ]
  },
  {
   "cell_type": "markdown",
   "metadata": {},
   "source": [
    "## Supuestos en simulación\n",
    "Clasificación de clientes: \n",
    "- Mujer  = 1 $\\longrightarrow$ aleatorio < 0.5\n",
    "- Hombre = 0 $\\longrightarrow$ aleatorio $\\geq$ 0.5.\n",
    "\n",
    "Condiciones iniciales:\n",
    "- Todas las distrubuciones de probabilidad se supondrán uniformes.\n",
    "- Tiempo de simulación: 6:30 am - 1:30pm $\\longrightarrow$ T = 7 horas = 25200 seg.\n",
    "- Tiempo de llegada hasta ser atendido: Min=5seg, Max=30seg.\n",
    "- Tiempo que tardan los clientes en ser atendidos:\n",
    "    - Mujer: Min = 1 min= 60seg, Max = 5 min = 300 seg\n",
    "    - Hombre: Min = 40 seg, Max = 2 min= 120 seg\n",
    "- Consumo según el tipo de cliente:\n",
    "    - Mujer: Min = 30 pesos, Max = 100 pesos\n",
    "    - Hombre: Min = 20 pesos, Max = 80 pesos\n",
    "\n",
    "Responder las siguientes preguntas basados en los datos del problema:\n",
    "1. ¿Cuáles fueron los gastos de los hombres y las mujeres en 5 días de trabajo?.\n",
    "2. ¿Cuál fue el consumo promedio de los hombres y mujeres?\n",
    "3. ¿Cuál fue el número de personas atendidas por día?\n",
    "4. ¿Cuál fue el tiempo de atención promedio?\n",
    "5. ¿Cuánto fue la ganancia promedio de la cafetería en 5 días de trabajo y su respectiva rentabilidad?"
   ]
  },
  {
   "cell_type": "code",
   "execution_count": 58,
   "metadata": {},
   "outputs": [],
   "source": [
    "# Datos del problema\n",
    "d = 5\n",
    "T =25200\n",
    "T_at_min = 5; T_at_max = 30\n",
    "T_mujer_min =60; T_mujer_max = 300\n",
    "T_hombre_min = 40; T_hombre_max = 120\n",
    "C_mujer_min = 30; C_mujer_max = 100\n",
    "C_hombre_min = 20; C_hombre_max = 80\n",
    "dia = 25200"
   ]
  },
  {
   "cell_type": "code",
   "execution_count": 59,
   "metadata": {},
   "outputs": [],
   "source": [
    "# Código de solución Santiago Romero\n",
    "def lleg_aten():\n",
    "    llegada = np.random.randint(5,31,1)\n",
    "    return llegada\n",
    "\n",
    "# Hombre    \n",
    "def h_atend():\n",
    "    at_h = np.random.randint(40, 121, 1)\n",
    "    return at_h\n",
    "\n",
    "def h_cons():\n",
    "    cons_h = np.random.randint(20, 81, 1)\n",
    "    return cons_h\n",
    "\n",
    "# Mujer\n",
    "def m_atend():\n",
    "    at_m = np.random.randint(60, 301, 1)\n",
    "    return at_m\n",
    "\n",
    "def m_cons():\n",
    "    cons_m = np.random.randint(30, 101, 1)\n",
    "    return cons_m"
   ]
  },
  {
   "cell_type": "code",
   "execution_count": 63,
   "metadata": {},
   "outputs": [],
   "source": [
    "# 1. ¿Cuáles fueron los gastos de los hombres y las mujeres en 5 días de trabajo?.\n",
    "gasto_h = [sum(h_cons()) for i in range (dia) if (dia >= sum(lleg_aten()))]\n",
    "gasto_m = [sum(m_cons()) for i in range (dia) if (dia >= sum(lleg_aten()))]\n",
    "\n",
    "# 2. ¿Cuál fue el consumo promedio de los hombres y mujeres?\n",
    "consumo_h = sum(gasto_h) / dia\n",
    "consumo_m = sum(gasto_m) / dia\n",
    "\n",
    "# 3. ¿Cuál fue el número de personas atendidas por día?\n",
    "p_atend = np.array([sum(lleg_aten()) for i in range(100000) if\n",
    "                       sum(lleg_aten()) <= dia])\n",
    "p_atendidas = sum(p_atend) / dia\n",
    "# 4. ¿Cuál fue el tiempo de atención promedio?\n",
    "t_atencion = p_atend.mean()\n",
    "\n",
    "# 5. ¿Cuánto fue la ganancia promedio de la cafetería en 5 días de trabajo y su respectiva rentabilidad?\n",
    "cons_sum = (sum(gasto_h) + sum(gasto_m)) / 5\n",
    "rentabilidad = cons_sum * 0.6"
   ]
  },
  {
   "cell_type": "code",
   "execution_count": 66,
   "metadata": {},
   "outputs": [
    {
     "name": "stdout",
     "output_type": "stream",
     "text": [
      "1. Gasto en 5 días:\n",
      "$ 1261904 gastan los hombres\n",
      "$ 1639608 gastan las mujeres\n",
      "\n",
      "2. Consumo promedio:\n",
      "$ 50.07555555555555 gastan los hombres en promedio\n",
      "$ 65.06380952380952 gastan las mujeres en promedio\n",
      "\n",
      "3. Personas atendidas en un día:\n",
      "69.481 personas atendidas en un día\n",
      "\n",
      "4. Tiempo de atención promedio:\n",
      "17.50929 fue el tiempo de atención promedio\n",
      "\n",
      "5. Ganancia promedio de la cafetería en 5 días:\n",
      "$ 580302.4 fue la ganancia promedio\n",
      "Con una rentabilidad de $ 348181.44\n"
     ]
    }
   ],
   "source": [
    "# Respuestas\n",
    "print('1. Gasto en 5 días:')\n",
    "print('$', sum(gasto_h), 'gastan los hombres')\n",
    "print('$', sum(gasto_m), 'gastan las mujeres')\n",
    "print(\"\")\n",
    "print('2. Consumo promedio:')\n",
    "print('$', consumo_h, 'gastan los hombres en promedio')\n",
    "print('$', consumo_m, 'gastan las mujeres en promedio')\n",
    "print(\"\")\n",
    "print('3. Personas atendidas en un día:')\n",
    "print(round(p_atendidas, 3), 'personas atendidas en un día')\n",
    "print(\"\")\n",
    "print('4. Tiempo de atención promedio:')\n",
    "print(t_atencion, \"fue el tiempo de atención promedio\")\n",
    "print(\"\")\n",
    "print(\"5. Ganancia promedio de la cafetería en 5 días:\")\n",
    "print('$', cons_sum, 'fue la ganancia promedio')\n",
    "print('Con una rentabilidad de', '$',rentabilidad)"
   ]
  },
  {
   "cell_type": "code",
   "execution_count": 12,
   "metadata": {},
   "outputs": [
    {
     "data": {
      "text/plain": [
       "[42363.17570150533,\n",
       " 21893.860734668513,\n",
       " 20469.314966836813,\n",
       " 312.0,\n",
       " 312.0,\n",
       " 7.551147989884764,\n",
       " 25417.905420903197]"
      ]
     },
     "execution_count": 12,
     "metadata": {},
     "output_type": "execute_result"
    }
   ],
   "source": [
    "# Código de solución estudiante 2 - José Tonatiuh Navarro Silva\n",
    "d = 5    # dias de trabajo\n",
    "\n",
    "def sim_caf_iteso(Personas,T,dias):\n",
    "    # información otorgada por ITESO\n",
    "    T_atendido_min = 5  # segundos mínimos hasta ser atendido\n",
    "    T_atendido_max = 30  # segundos máximos hasta ser atendido\n",
    "    T_mujer_min =60   # Tiempo mínimo en atender una mujer\n",
    "    T_mujer_max = 300   # Tiempo máximo en atender una mujer\n",
    "    T_hombre_min = 40  # Tiempo mínimo en atender un hombre\n",
    "    T_hombre_max = 120  # Tiempo máximo en atender un hombre\n",
    "    C_mujer_min = 30 # Gasto mínimo de mujeres\n",
    "    C_mujer_max = 100 # Gato máximo de mujeres\n",
    "    C_hombre_min = 20 # Gasto mínimo de hombres\n",
    "    C_hombre_max = 80 # Gasto máximo de hombres\n",
    "    \n",
    "    \n",
    "    hombre_mujer = np.random.rand(Personas)\n",
    "    tiempo_total = 0\n",
    "    numero_mujeres = 0\n",
    "    numero_hombres = 0\n",
    "    tiempo_mujer = 0\n",
    "    tiempo_hombre = 0\n",
    "    gasto_mujer = 0\n",
    "    gasto_hombre = 0\n",
    "   \n",
    "    i = 0\n",
    " \n",
    "    while T*dias > tiempo_total:\n",
    "        tiempo_atencion = np.random.uniform(T_atendido_min,T_atendido_max)\n",
    "        tiempo_total += tiempo_atencion\n",
    "        \n",
    "        if hombre_mujer[i] < .5:\n",
    "            numero_mujeres +=  1   \n",
    "            gasto_mujer += np.random.uniform(C_mujer_min, C_mujer_max)\n",
    "            tiempo_total += np.random.uniform(T_mujer_min,T_mujer_max,1)\n",
    "            \n",
    "        else:\n",
    "            numero_hombres += 1\n",
    "            gasto_hombre += np.random.uniform(C_mujer_min, C_mujer_max)\n",
    "            tiempo_total +=  np.random.uniform(T_mujer_min,T_mujer_max)\n",
    "            \n",
    "        i += 1  \n",
    "\n",
    "            \n",
    "    return [gasto_hombre+gasto_mujer,np.mean(gasto_hombre),np.mean(gasto_mujer),np.mean(numero_mujeres),np.mean(numero_mujeres),\n",
    "           np.mean(tiempo_atencion), np.mean(gasto_hombre+gasto_mujer)*.6]\n",
    "            \n"
   ]
  },
  {
   "cell_type": "markdown",
   "metadata": {},
   "source": [
    "### Responder las siguientes preguntas basados en los datos del problema:\n",
    "\n",
    "#### 1. ¿Cuáles fueron los gastos de los hombres y las mujeres en 5 días de trabajo? \n"
   ]
  },
  {
   "cell_type": "code",
   "execution_count": 13,
   "metadata": {
    "scrolled": true
   },
   "outputs": [
    {
     "name": "stdout",
     "output_type": "stream",
     "text": [
      "41173.53649133234\n"
     ]
    }
   ],
   "source": [
    "print(sim_caf_iteso(1000,25200,5)[0])"
   ]
  },
  {
   "cell_type": "markdown",
   "metadata": {},
   "source": [
    "#### 2. ¿Cuál fue el consumo promedio de los hombres y mujeres?\n"
   ]
  },
  {
   "cell_type": "code",
   "execution_count": 14,
   "metadata": {},
   "outputs": [
    {
     "name": "stdout",
     "output_type": "stream",
     "text": [
      "el consumo promedio de los hombres fue de: 19421.90017133172\n",
      "el consumo promedio de las mujeres fue de: 19420.83594548105\n"
     ]
    }
   ],
   "source": [
    "print('el consumo promedio de los hombres fue de:',sim_caf_iteso(1000,25200,5)[1])\n",
    "print('el consumo promedio de las mujeres fue de:',sim_caf_iteso(1000,25200,5)[2])"
   ]
  },
  {
   "cell_type": "markdown",
   "metadata": {},
   "source": [
    "#### 3. ¿Cuál fue el número de personas atendidas por día?\n"
   ]
  },
  {
   "cell_type": "code",
   "execution_count": 15,
   "metadata": {},
   "outputs": [
    {
     "name": "stdout",
     "output_type": "stream",
     "text": [
      "El promedio de las mujeres atendidas por día es de: 61.0\n",
      "El promedio de llos hombres atendidos por día es de: 55.0\n"
     ]
    }
   ],
   "source": [
    "print('El promedio de las mujeres atendidas por día es de:',sim_caf_iteso(1000,25200,1)[3])\n",
    "print('El promedio de llos hombres atendidos por día es de:',sim_caf_iteso(1000,25200,1)[4])"
   ]
  },
  {
   "cell_type": "markdown",
   "metadata": {},
   "source": [
    "#### 4. ¿Cuál fue el tiempo de atención promedio?\n"
   ]
  },
  {
   "cell_type": "code",
   "execution_count": 16,
   "metadata": {},
   "outputs": [
    {
     "name": "stdout",
     "output_type": "stream",
     "text": [
      "El tiempo de atencion promedio es de: 16.161962371240563\n"
     ]
    }
   ],
   "source": [
    "print('El tiempo de atencion promedio es de:', sim_caf_iteso(1000,25200,1)[5])"
   ]
  },
  {
   "cell_type": "markdown",
   "metadata": {},
   "source": [
    "#### 5. ¿Cuánto fue la ganancia promedio de la cafetería en 5 días de trabajo y su respectiva rentabilidad?"
   ]
  },
  {
   "cell_type": "code",
   "execution_count": 17,
   "metadata": {},
   "outputs": [
    {
     "name": "stdout",
     "output_type": "stream",
     "text": [
      "La ganancia promedio es de: 24893.54033145179\n"
     ]
    }
   ],
   "source": [
    "print('La ganancia promedio es de:', sim_caf_iteso(1000,25200,5)[6])"
   ]
  }
 ],
 "metadata": {
  "kernelspec": {
   "display_name": "Python 3",
   "language": "python",
   "name": "python3"
  },
  "language_info": {
   "codemirror_mode": {
    "name": "ipython",
    "version": 3
   },
   "file_extension": ".py",
   "mimetype": "text/x-python",
   "name": "python",
   "nbconvert_exporter": "python",
   "pygments_lexer": "ipython3",
   "version": "3.8.3"
  }
 },
 "nbformat": 4,
 "nbformat_minor": 2
}
